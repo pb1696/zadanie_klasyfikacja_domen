{
 "cells": [
  {
   "cell_type": "code",
   "execution_count": 1,
   "id": "cfdc06a5",
   "metadata": {},
   "outputs": [],
   "source": [
    "# Klasyfikacja domen - Piotr Bajuk\n",
    "# Wykonane zostały model regresji logistycznej oraz las losowy"
   ]
  },
  {
   "cell_type": "code",
   "execution_count": null,
   "id": "d205e03c",
   "metadata": {},
   "outputs": [],
   "source": [
    "import pandas as pd\n",
    "import seaborn as sns\n",
    "from ast import literal_eval"
   ]
  },
  {
   "cell_type": "code",
   "execution_count": 2,
   "id": "96832869",
   "metadata": {},
   "outputs": [
    {
     "name": "stderr",
     "output_type": "stream",
     "text": [
      "D:\\programy\\python\\envs\\pajton\\lib\\site-packages\\IPython\\core\\interactiveshell.py:3441: DtypeWarning: Columns (9,10,12,13,17,18,20,21,24,25,27,28,36) have mixed types.Specify dtype option on import or set low_memory=False.\n",
      "  exec(code_obj, self.user_global_ns, self.user_ns)\n"
     ]
    }
   ],
   "source": [
    "# Wczytanie danych z plików csv\n",
    "df_benign = pd.read_csv('CSV_benign.csv') # bezpieczne\n",
    "df_malware = pd.read_csv('CSV_malware.csv') # niebezpieczne"
   ]
  },
  {
   "cell_type": "code",
   "execution_count": 3,
   "id": "37780fba",
   "metadata": {},
   "outputs": [
    {
     "data": {
      "text/plain": [
       "Index(['Country', 'ASN', 'TTL', 'IP', 'Domain', 'oc_8', 'longest_word',\n",
       "       'Domain_Name', 'dec_32', 'subdomain', 'sld', 'Registrant_Name',\n",
       "       'hex_32', 'Domain_Age', 'entropy', 'Name_Server_Count', 'Emails',\n",
       "       'Creation_Date_Time', 'Organization', 'char_distribution', '2gram',\n",
       "       'State', 'oc_32', 'Country.1', 'Page_Rank', 'hex_8', 'dec_8', '1gram',\n",
       "       'len', 'typos', 'tld', 'shortened', 'Registrar', 'obfuscate_at_sign',\n",
       "       'Alexa_Rank', '3gram', 'numeric_percentage', 'puny_coded'],\n",
       "      dtype='object')"
      ]
     },
     "execution_count": 3,
     "metadata": {},
     "output_type": "execute_result"
    }
   ],
   "source": [
    "# Analiza kolumn występujących w zbiorach\n",
    "df_benign.columns\n",
    "df_malware.columns"
   ]
  },
  {
   "cell_type": "code",
   "execution_count": 4,
   "id": "1b61c22f",
   "metadata": {},
   "outputs": [
    {
     "data": {
      "text/plain": [
       "{'1gram',\n",
       " '2gram',\n",
       " '3gram',\n",
       " 'ASN',\n",
       " 'Alexa_Rank',\n",
       " 'Country',\n",
       " 'Country.1',\n",
       " 'Creation_Date_Time',\n",
       " 'Domain',\n",
       " 'Domain_Age',\n",
       " 'Domain_Name',\n",
       " 'Emails',\n",
       " 'IP',\n",
       " 'Name_Server_Count',\n",
       " 'Organization',\n",
       " 'Page_Rank',\n",
       " 'Registrant_Name',\n",
       " 'Registrar',\n",
       " 'State',\n",
       " 'TTL',\n",
       " 'char_distribution',\n",
       " 'dec_32',\n",
       " 'dec_8',\n",
       " 'entropy',\n",
       " 'hex_32',\n",
       " 'hex_8',\n",
       " 'len',\n",
       " 'longest_word',\n",
       " 'numeric_percentage',\n",
       " 'obfuscate_at_sign',\n",
       " 'oc_32',\n",
       " 'oc_8',\n",
       " 'puny_coded',\n",
       " 'shortened',\n",
       " 'sld',\n",
       " 'subdomain',\n",
       " 'tld',\n",
       " 'typos'}"
      ]
     },
     "execution_count": 4,
     "metadata": {},
     "output_type": "execute_result"
    }
   ],
   "source": [
    "# Wykorzystamy jedynie kolumny wspólne w obu ramkach\n",
    "set(df_benign.columns) | set(df_malware.columns)"
   ]
  },
  {
   "cell_type": "code",
   "execution_count": 5,
   "id": "39ce47b5",
   "metadata": {},
   "outputs": [
    {
     "data": {
      "text/plain": [
       "set()"
      ]
     },
     "execution_count": 5,
     "metadata": {},
     "output_type": "execute_result"
    }
   ],
   "source": [
    "# Kolummy, ktore się różnią\n",
    "set(df_benign.columns) - set(df_malware.columns)"
   ]
  },
  {
   "cell_type": "code",
   "execution_count": 6,
   "id": "a25015ee",
   "metadata": {},
   "outputs": [],
   "source": [
    "# Obie ramki danych posiadają te same kolumny. Dodajmy labele\n",
    "df_benign['label'] = 0\n",
    "df_malware['label'] = 1"
   ]
  },
  {
   "cell_type": "code",
   "execution_count": 7,
   "id": "36cf3358",
   "metadata": {},
   "outputs": [
    {
     "data": {
      "text/plain": [
       "Country                946\n",
       "ASN                    944\n",
       "TTL                      0\n",
       "IP                     901\n",
       "Domain                   0\n",
       "oc_8                     0\n",
       "longest_word             0\n",
       "Domain_Name           1031\n",
       "dec_32                   0\n",
       "subdomain                0\n",
       "sld                      0\n",
       "Registrant_Name       4926\n",
       "hex_32                   0\n",
       "Domain_Age             571\n",
       "entropy                  0\n",
       "Name_Server_Count      571\n",
       "Emails                1622\n",
       "Creation_Date_Time    1175\n",
       "Organization          2716\n",
       "char_distribution        0\n",
       "2gram                    0\n",
       "State                 2367\n",
       "oc_32                    0\n",
       "Country.1             2109\n",
       "Page_Rank              571\n",
       "hex_8                    0\n",
       "dec_8                    0\n",
       "1gram                    0\n",
       "len                      0\n",
       "typos                    0\n",
       "tld                      0\n",
       "shortened               61\n",
       "Registrar             1306\n",
       "obfuscate_at_sign        0\n",
       "Alexa_Rank             571\n",
       "3gram                    0\n",
       "numeric_percentage       0\n",
       "puny_coded               0\n",
       "label                    0\n",
       "dtype: int64"
      ]
     },
     "execution_count": 7,
     "metadata": {},
     "output_type": "execute_result"
    }
   ],
   "source": [
    "# Zobaczmy braki danych - skupmy się na ramce df_malware, która \n",
    "# posiada zdecydowanie mniej danych\n",
    "df_malware.isna().sum()"
   ]
  },
  {
   "cell_type": "code",
   "execution_count": 8,
   "id": "d6f40839",
   "metadata": {},
   "outputs": [],
   "source": [
    "# Mamy sporo braków"
   ]
  },
  {
   "cell_type": "code",
   "execution_count": 9,
   "id": "293bc4bf",
   "metadata": {},
   "outputs": [
    {
     "data": {
      "text/plain": [
       "Country                946\n",
       "ASN                    944\n",
       "TTL                      0\n",
       "IP                     901\n",
       "Domain                   0\n",
       "oc_8                     0\n",
       "longest_word             0\n",
       "Domain_Name           1031\n",
       "dec_32                   0\n",
       "subdomain                0\n",
       "sld                      0\n",
       "Registrant_Name       4926\n",
       "hex_32                   0\n",
       "Domain_Age             571\n",
       "entropy                  0\n",
       "Name_Server_Count      571\n",
       "Emails                1622\n",
       "Creation_Date_Time    1175\n",
       "Organization          2716\n",
       "char_distribution        0\n",
       "2gram                    0\n",
       "State                 2367\n",
       "oc_32                    0\n",
       "Country.1             2109\n",
       "Page_Rank              571\n",
       "hex_8                    0\n",
       "dec_8                    0\n",
       "1gram                    0\n",
       "len                      0\n",
       "typos                    0\n",
       "tld                      0\n",
       "shortened               61\n",
       "Registrar             1306\n",
       "obfuscate_at_sign        0\n",
       "Alexa_Rank             571\n",
       "3gram                    0\n",
       "numeric_percentage       0\n",
       "puny_coded               0\n",
       "label                    0\n",
       "dtype: int64"
      ]
     },
     "execution_count": 9,
     "metadata": {},
     "output_type": "execute_result"
    }
   ],
   "source": [
    "# Zaczynamy od malware - testowo przejdźmy cały proces oczyszczania przed implementacją pipeline'u\n",
    "df_malware.isna().sum()"
   ]
  },
  {
   "cell_type": "code",
   "execution_count": 10,
   "id": "546b0a3b",
   "metadata": {},
   "outputs": [],
   "source": [
    "# Brakujący country możemy zamienić na NaD - no a data\n",
    "df_malware['Country'] = df_malware['Country'].fillna(\"NaD\")"
   ]
  },
  {
   "cell_type": "code",
   "execution_count": 11,
   "id": "6fbf5bc3",
   "metadata": {},
   "outputs": [],
   "source": [
    "# ASN - usuwamy braki w danych\n",
    "df_malware = df_malware.dropna(subset=['ASN'])"
   ]
  },
  {
   "cell_type": "code",
   "execution_count": 12,
   "id": "4d0a1cd2",
   "metadata": {},
   "outputs": [
    {
     "data": {
      "text/plain": [
       "Country                  0\n",
       "ASN                      0\n",
       "TTL                      0\n",
       "IP                       0\n",
       "Domain                   0\n",
       "oc_8                     0\n",
       "longest_word             0\n",
       "Domain_Name            843\n",
       "dec_32                   0\n",
       "subdomain                0\n",
       "sld                      0\n",
       "Registrant_Name       3993\n",
       "hex_32                   0\n",
       "Domain_Age             472\n",
       "entropy                  0\n",
       "Name_Server_Count      472\n",
       "Emails                1361\n",
       "Creation_Date_Time     971\n",
       "Organization          2303\n",
       "char_distribution        0\n",
       "2gram                    0\n",
       "State                 2018\n",
       "oc_32                    0\n",
       "Country.1             1787\n",
       "Page_Rank              472\n",
       "hex_8                    0\n",
       "dec_8                    0\n",
       "1gram                    0\n",
       "len                      0\n",
       "typos                    0\n",
       "tld                      0\n",
       "shortened               48\n",
       "Registrar             1085\n",
       "obfuscate_at_sign        0\n",
       "Alexa_Rank             472\n",
       "3gram                    0\n",
       "numeric_percentage       0\n",
       "puny_coded               0\n",
       "label                    0\n",
       "dtype: int64"
      ]
     },
     "execution_count": 12,
     "metadata": {},
     "output_type": "execute_result"
    }
   ],
   "source": [
    "df_malware.isna().sum()"
   ]
  },
  {
   "cell_type": "code",
   "execution_count": 13,
   "id": "6ae09f7b",
   "metadata": {},
   "outputs": [],
   "source": [
    "# Domain_name, Registrant_Name - usuwamy kolumny - za dużo unikalnych\n",
    "# i za duzo braków\n",
    "df_malware = df_malware.drop(columns=['Domain_Name', 'Registrant_Name'])"
   ]
  },
  {
   "cell_type": "code",
   "execution_count": 14,
   "id": "dc41acb4",
   "metadata": {},
   "outputs": [],
   "source": [
    "# Usuwamy braki z Domain_Age - może to być istotna kolumna\n",
    "df_malware = df_malware.dropna(subset=['Domain_Age'])\n"
   ]
  },
  {
   "cell_type": "code",
   "execution_count": 15,
   "id": "9e076881",
   "metadata": {},
   "outputs": [],
   "source": [
    "# Usuwamy Emails, Creation_Date_Time, Organization, State, Country.1, \n",
    "# shortened, Registrar - nie damy rady imputować\n",
    "df_malware = df_malware.drop(columns=['Emails', \n",
    "                                      'Creation_Date_Time', \n",
    "                                      'Organization',\n",
    "                                      'State',\n",
    "                                      'Country.1',\n",
    "                                      'shortened',\n",
    "                                      'Registrar'])"
   ]
  },
  {
   "cell_type": "code",
   "execution_count": 16,
   "id": "b3027a18",
   "metadata": {},
   "outputs": [
    {
     "data": {
      "text/plain": [
       "Country               0\n",
       "ASN                   0\n",
       "TTL                   0\n",
       "IP                    0\n",
       "Domain                0\n",
       "oc_8                  0\n",
       "longest_word          0\n",
       "dec_32                0\n",
       "subdomain             0\n",
       "sld                   0\n",
       "hex_32                0\n",
       "Domain_Age            0\n",
       "entropy               0\n",
       "Name_Server_Count     0\n",
       "char_distribution     0\n",
       "2gram                 0\n",
       "oc_32                 0\n",
       "Page_Rank             0\n",
       "hex_8                 0\n",
       "dec_8                 0\n",
       "1gram                 0\n",
       "len                   0\n",
       "typos                 0\n",
       "tld                   0\n",
       "obfuscate_at_sign     0\n",
       "Alexa_Rank            0\n",
       "3gram                 0\n",
       "numeric_percentage    0\n",
       "puny_coded            0\n",
       "label                 0\n",
       "dtype: int64"
      ]
     },
     "execution_count": 16,
     "metadata": {},
     "output_type": "execute_result"
    }
   ],
   "source": [
    "df_malware.isna().sum()"
   ]
  },
  {
   "cell_type": "code",
   "execution_count": 17,
   "id": "0f7e1042",
   "metadata": {},
   "outputs": [],
   "source": [
    "# Usuwamy pozostałe kolumny, które zostały uznane za niezdatne\n",
    "df_malware = df_malware.drop(columns=['char_distribution', \n",
    "                                      '1gram', \n",
    "                                      '2gram',\n",
    "                                      'typos'])"
   ]
  },
  {
   "cell_type": "code",
   "execution_count": 18,
   "id": "5a23e868",
   "metadata": {},
   "outputs": [],
   "source": [
    "# Zajmijmy się kolumna Domain_Age - pozyskajmy liczbe dni\n",
    "def clear_d_age(row):\n",
    "    try:\n",
    "        data = row.split(' ')[0]\n",
    "        return int(data)\n",
    "    except:\n",
    "        return 0"
   ]
  },
  {
   "cell_type": "code",
   "execution_count": 19,
   "id": "07273d00",
   "metadata": {},
   "outputs": [],
   "source": [
    "df_malware['Domain_Age'] = df_malware['Domain_Age'].apply(lambda data: clear_d_age(data))"
   ]
  },
  {
   "cell_type": "code",
   "execution_count": 20,
   "id": "d7e05eac",
   "metadata": {},
   "outputs": [],
   "source": [
    "# Kolumna 3gram na string i OHE\n",
    "df_malware['3gram'] = df_malware.loc[:,'3gram'].apply(lambda x: literal_eval(x))"
   ]
  },
  {
   "cell_type": "code",
   "execution_count": 21,
   "id": "221391db",
   "metadata": {},
   "outputs": [],
   "source": [
    "def clear_3gram(row):\n",
    "    try:\n",
    "        data = ','.join(row)\n",
    "        return data\n",
    "    except:\n",
    "        return 'no_data'"
   ]
  },
  {
   "cell_type": "code",
   "execution_count": 22,
   "id": "29b4ad89",
   "metadata": {},
   "outputs": [],
   "source": [
    "df_malware['3gram'] = df_malware['3gram'].apply(lambda data: clear_3gram(data))"
   ]
  },
  {
   "cell_type": "code",
   "execution_count": 23,
   "id": "dc706ce8",
   "metadata": {},
   "outputs": [],
   "source": [
    "# Usuwamy z TTL nieliczbowe dane\n",
    "df_malware = df_malware[df_malware[\"TTL\"].str.contains(\"b'\") == False] "
   ]
  },
  {
   "cell_type": "code",
   "execution_count": 24,
   "id": "c51b5613",
   "metadata": {},
   "outputs": [],
   "source": [
    "# TTL na int\n",
    "df_malware['TTL'] = df_malware['TTL'].astype(int)"
   ]
  },
  {
   "cell_type": "code",
   "execution_count": 25,
   "id": "1548d9ea",
   "metadata": {},
   "outputs": [],
   "source": [
    "# Domain - usuwamy, bo za duzo unikalnych. Zostawiamy sld\n",
    "df_malware = df_malware.drop(columns=['Domain', 'longest_word'])\n"
   ]
  },
  {
   "cell_type": "code",
   "execution_count": 26,
   "id": "fb3906f8",
   "metadata": {},
   "outputs": [],
   "source": [
    "# Moglibysmy utworzyc tez kolumny z 3gram, ale bedzie za duzo. \n",
    "# Usuwamy 3gram\n",
    "df_malware = df_malware.drop(columns=['3gram'])\n"
   ]
  },
  {
   "cell_type": "code",
   "execution_count": 27,
   "id": "fbac3903",
   "metadata": {},
   "outputs": [],
   "source": [
    "# Zaczynamy tworzyć kolumny z danych str\n",
    "one_hot_df = pd.get_dummies(df_malware, columns=['Country', \n",
    "                                                 'IP',\n",
    "                                                 'sld',\n",
    "                                                 'tld'])\n"
   ]
  },
  {
   "cell_type": "code",
   "execution_count": 28,
   "id": "5823b6eb",
   "metadata": {},
   "outputs": [],
   "source": [
    "# Gowowy pipeline na podstawie dotychczasowych testów\n",
    "def pipeline(dataframe):\n",
    "    dataframe['Country'] = dataframe['Country'].fillna(\"NaD\")\n",
    "    dataframe = dataframe.dropna(subset=['ASN'])\n",
    "    dataframe = dataframe.dropna(subset=['Domain_Age'])\n",
    "    dataframe = dataframe.dropna(subset=['IP'])\n",
    "    \n",
    "    dataframe = dataframe.drop(columns=['Domain_Name', \n",
    "                                          'Registrant_Name',\n",
    "                                          'Emails', \n",
    "                                          'Creation_Date_Time',\n",
    "                                          'Organization',\n",
    "                                          'State',\n",
    "                                          'Country.1',\n",
    "                                          'shortened',\n",
    "                                          'Registrar',\n",
    "                                          'char_distribution', \n",
    "                                          '1gram', \n",
    "                                          '2gram',\n",
    "                                          'typos',\n",
    "                                          'Domain', \n",
    "                                          'longest_word',\n",
    "                                          '3gram'\n",
    "                                          ])\n",
    "    dataframe['Domain_Age'] = dataframe['Domain_Age'].apply(lambda data: clear_d_age(data))\n",
    "    try:\n",
    "        dataframe = dataframe[dataframe[\"TTL\"].str.contains(\"b'\") != True] \n",
    "    except:\n",
    "        pass\n",
    "    dataframe['TTL'] = dataframe['TTL'].astype(int)\n",
    "    \n",
    "    one_hot_df = pd.get_dummies(dataframe, columns=['Country', 'IP', 'sld', 'tld'])\n",
    "    \n",
    "    # Konwersja kazdej z kolumn na int - jeseli sie nie da - wstawiamy NaN\n",
    "    for col in one_hot_df.columns:\n",
    "        one_hot_df[col] = pd.to_numeric(one_hot_df[col], errors='coerce')\n",
    "        \n",
    "    one_hot_df.dropna()\n",
    "\n",
    "    return one_hot_df "
   ]
  },
  {
   "cell_type": "code",
   "execution_count": 29,
   "id": "516993c4",
   "metadata": {},
   "outputs": [],
   "source": [
    "# Mając funkcję pipeline rozpoczynamy od nowa od wczytania danych i przygotowania ich do uczenia maszynowego\n",
    "# z wykorzystaniem pipeline."
   ]
  },
  {
   "cell_type": "code",
   "execution_count": 30,
   "id": "debdd0aa",
   "metadata": {},
   "outputs": [],
   "source": [
    "df_benign = pd.read_csv('CSV_benign.csv') # bezpieczne\n",
    "df_malware = pd.read_csv('CSV_malware.csv') # niebezpieczne\n",
    "\n",
    "# Z racji dużej dysproporcji w danych skupimy się na fragmencie danych z ramki df_benign o długości równej ramce df_malware.\n",
    "# Połączymy ją z malware i wykorzystajmy pipeline\n",
    "df_benign_sample = df_benign.sample(len(df_malware), random_state=123)"
   ]
  },
  {
   "cell_type": "code",
   "execution_count": 31,
   "id": "ec7774a9",
   "metadata": {},
   "outputs": [],
   "source": [
    "# Obie ramki danych posiadają te same kolumny. Dodajmy labele\n",
    "df_benign_sample['label'] = 0\n",
    "df_malware['label'] = 1"
   ]
  },
  {
   "cell_type": "code",
   "execution_count": 32,
   "id": "df8abef5",
   "metadata": {},
   "outputs": [],
   "source": [
    "# Łączymy ramki\n",
    "df_ML = pd.concat([df_benign_sample, df_malware], axis = 0)"
   ]
  },
  {
   "cell_type": "code",
   "execution_count": 33,
   "id": "4f65fa8e",
   "metadata": {},
   "outputs": [],
   "source": [
    "# Wrzucamy do pipeline\n",
    "df_ML = pipeline(df_ML)"
   ]
  },
  {
   "cell_type": "code",
   "execution_count": 34,
   "id": "87ba180f",
   "metadata": {},
   "outputs": [],
   "source": [
    "# Na wszelki wypadek usuwamy braki w danych\n",
    "df_ML = df_ML.dropna()"
   ]
  },
  {
   "cell_type": "code",
   "execution_count": 35,
   "id": "f554e9f4",
   "metadata": {},
   "outputs": [
    {
     "data": {
      "text/plain": [
       "1    3561\n",
       "0    2679\n",
       "Name: label, dtype: int64"
      ]
     },
     "execution_count": 35,
     "metadata": {},
     "output_type": "execute_result"
    }
   ],
   "source": [
    "# Balans klasowy\n",
    "df_ML['label'].value_counts()"
   ]
  },
  {
   "cell_type": "code",
   "execution_count": 36,
   "id": "e57817b2",
   "metadata": {},
   "outputs": [],
   "source": [
    "# Okazuje się, że mamy więcej 0. Dajmy większą liczbę próbek z klasy 0\n",
    "df_benign_sample = df_benign.sample(len(df_malware)+1000, random_state=123)\n",
    "df_benign_sample['label'] = 0\n",
    "# Łączymy ramki\n",
    "df_ML = pd.concat([df_benign_sample, df_malware], axis = 0)\n",
    "# Wrzucamy do pipeline\n",
    "df_ML = pipeline(df_ML)\n",
    "# Na wszelki wypadek usuwamy braki w danych\n",
    "df_ML = df_ML.dropna()"
   ]
  },
  {
   "cell_type": "code",
   "execution_count": 37,
   "id": "38ad466e",
   "metadata": {},
   "outputs": [
    {
     "data": {
      "text/plain": [
       "1    3561\n",
       "0    3244\n",
       "Name: label, dtype: int64"
      ]
     },
     "execution_count": 37,
     "metadata": {},
     "output_type": "execute_result"
    }
   ],
   "source": [
    "# Balans klasowy - podobny, o to nam chodzi\n",
    "df_ML['label'].value_counts()"
   ]
  },
  {
   "cell_type": "code",
   "execution_count": 38,
   "id": "e07667a1",
   "metadata": {},
   "outputs": [],
   "source": [
    "# Uczenie maszynowe\n",
    "X = df_ML.drop(columns=['label'])\n",
    "Y = df_ML['label']"
   ]
  },
  {
   "cell_type": "code",
   "execution_count": 39,
   "id": "59417a83",
   "metadata": {},
   "outputs": [],
   "source": [
    "from sklearn.model_selection import train_test_split\n",
    "from sklearn.preprocessing import MinMaxScaler"
   ]
  },
  {
   "cell_type": "code",
   "execution_count": 40,
   "id": "7a598e42",
   "metadata": {},
   "outputs": [],
   "source": [
    "# Podział danych na treningowe i testowe (0.8 - 0.2) \n",
    "# Dla uzyskania takich samych wyników przy ponownym uruchomieniu ustalamy jakiś random state (tutaj 123)\n",
    "x_train, x_test, y_train, y_test = train_test_split(X, Y, test_size = 0.2, random_state=123) "
   ]
  },
  {
   "cell_type": "code",
   "execution_count": 41,
   "id": "2cd494e6",
   "metadata": {},
   "outputs": [],
   "source": [
    "# Skaler - dopasowanie do treningowych, a następnei normalizacja testowych z uzyskanymi wcześniej hiperparametrami.\n",
    "min_max_scaler = MinMaxScaler()\n",
    "x_train_norm = min_max_scaler.fit_transform(x_train)\n",
    "x_test_norm = min_max_scaler.transform(x_test)"
   ]
  },
  {
   "cell_type": "code",
   "execution_count": 42,
   "id": "44b116d2",
   "metadata": {},
   "outputs": [],
   "source": [
    "# Krzywa ROC\n",
    "from sklearn import metrics\n",
    "\n",
    "def ROC(model, X_test, y_test):\n",
    "    y_pred_proba = model.predict_proba(X_test)[::,1]\n",
    "    fpr, tpr, _ = metrics.roc_curve(y_test,  y_pred_proba)\n",
    "    auc = metrics.roc_auc_score(y_test, y_pred_proba)\n",
    "\n",
    "    #create ROC curve\n",
    "    plt.plot(fpr,tpr,label=\"AUC=\"+str(auc))\n",
    "    plt.ylabel('True Positive Rate')\n",
    "    plt.xlabel('False Positive Rate')\n",
    "    plt.legend(loc=4)\n",
    "    plt.show()"
   ]
  },
  {
   "cell_type": "code",
   "execution_count": 43,
   "id": "e744484c",
   "metadata": {},
   "outputs": [
    {
     "data": {
      "text/html": [
       "<style>#sk-container-id-1 {color: black;background-color: white;}#sk-container-id-1 pre{padding: 0;}#sk-container-id-1 div.sk-toggleable {background-color: white;}#sk-container-id-1 label.sk-toggleable__label {cursor: pointer;display: block;width: 100%;margin-bottom: 0;padding: 0.3em;box-sizing: border-box;text-align: center;}#sk-container-id-1 label.sk-toggleable__label-arrow:before {content: \"▸\";float: left;margin-right: 0.25em;color: #696969;}#sk-container-id-1 label.sk-toggleable__label-arrow:hover:before {color: black;}#sk-container-id-1 div.sk-estimator:hover label.sk-toggleable__label-arrow:before {color: black;}#sk-container-id-1 div.sk-toggleable__content {max-height: 0;max-width: 0;overflow: hidden;text-align: left;background-color: #f0f8ff;}#sk-container-id-1 div.sk-toggleable__content pre {margin: 0.2em;color: black;border-radius: 0.25em;background-color: #f0f8ff;}#sk-container-id-1 input.sk-toggleable__control:checked~div.sk-toggleable__content {max-height: 200px;max-width: 100%;overflow: auto;}#sk-container-id-1 input.sk-toggleable__control:checked~label.sk-toggleable__label-arrow:before {content: \"▾\";}#sk-container-id-1 div.sk-estimator input.sk-toggleable__control:checked~label.sk-toggleable__label {background-color: #d4ebff;}#sk-container-id-1 div.sk-label input.sk-toggleable__control:checked~label.sk-toggleable__label {background-color: #d4ebff;}#sk-container-id-1 input.sk-hidden--visually {border: 0;clip: rect(1px 1px 1px 1px);clip: rect(1px, 1px, 1px, 1px);height: 1px;margin: -1px;overflow: hidden;padding: 0;position: absolute;width: 1px;}#sk-container-id-1 div.sk-estimator {font-family: monospace;background-color: #f0f8ff;border: 1px dotted black;border-radius: 0.25em;box-sizing: border-box;margin-bottom: 0.5em;}#sk-container-id-1 div.sk-estimator:hover {background-color: #d4ebff;}#sk-container-id-1 div.sk-parallel-item::after {content: \"\";width: 100%;border-bottom: 1px solid gray;flex-grow: 1;}#sk-container-id-1 div.sk-label:hover label.sk-toggleable__label {background-color: #d4ebff;}#sk-container-id-1 div.sk-serial::before {content: \"\";position: absolute;border-left: 1px solid gray;box-sizing: border-box;top: 0;bottom: 0;left: 50%;z-index: 0;}#sk-container-id-1 div.sk-serial {display: flex;flex-direction: column;align-items: center;background-color: white;padding-right: 0.2em;padding-left: 0.2em;position: relative;}#sk-container-id-1 div.sk-item {position: relative;z-index: 1;}#sk-container-id-1 div.sk-parallel {display: flex;align-items: stretch;justify-content: center;background-color: white;position: relative;}#sk-container-id-1 div.sk-item::before, #sk-container-id-1 div.sk-parallel-item::before {content: \"\";position: absolute;border-left: 1px solid gray;box-sizing: border-box;top: 0;bottom: 0;left: 50%;z-index: -1;}#sk-container-id-1 div.sk-parallel-item {display: flex;flex-direction: column;z-index: 1;position: relative;background-color: white;}#sk-container-id-1 div.sk-parallel-item:first-child::after {align-self: flex-end;width: 50%;}#sk-container-id-1 div.sk-parallel-item:last-child::after {align-self: flex-start;width: 50%;}#sk-container-id-1 div.sk-parallel-item:only-child::after {width: 0;}#sk-container-id-1 div.sk-dashed-wrapped {border: 1px dashed gray;margin: 0 0.4em 0.5em 0.4em;box-sizing: border-box;padding-bottom: 0.4em;background-color: white;}#sk-container-id-1 div.sk-label label {font-family: monospace;font-weight: bold;display: inline-block;line-height: 1.2em;}#sk-container-id-1 div.sk-label-container {text-align: center;}#sk-container-id-1 div.sk-container {/* jupyter's `normalize.less` sets `[hidden] { display: none; }` but bootstrap.min.css set `[hidden] { display: none !important; }` so we also need the `!important` here to be able to override the default hidden behavior on the sphinx rendered scikit-learn.org. See: https://github.com/scikit-learn/scikit-learn/issues/21755 */display: inline-block !important;position: relative;}#sk-container-id-1 div.sk-text-repr-fallback {display: none;}</style><div id=\"sk-container-id-1\" class=\"sk-top-container\"><div class=\"sk-text-repr-fallback\"><pre>LogisticRegression()</pre><b>In a Jupyter environment, please rerun this cell to show the HTML representation or trust the notebook. <br />On GitHub, the HTML representation is unable to render, please try loading this page with nbviewer.org.</b></div><div class=\"sk-container\" hidden><div class=\"sk-item\"><div class=\"sk-estimator sk-toggleable\"><input class=\"sk-toggleable__control sk-hidden--visually\" id=\"sk-estimator-id-1\" type=\"checkbox\" checked><label for=\"sk-estimator-id-1\" class=\"sk-toggleable__label sk-toggleable__label-arrow\">LogisticRegression</label><div class=\"sk-toggleable__content\"><pre>LogisticRegression()</pre></div></div></div></div></div>"
      ],
      "text/plain": [
       "LogisticRegression()"
      ]
     },
     "execution_count": 43,
     "metadata": {},
     "output_type": "execute_result"
    }
   ],
   "source": [
    "# Regresja logistyczna\n",
    "from sklearn.linear_model import LogisticRegression\n",
    "import matplotlib.pyplot as plt\n",
    "logistic = LogisticRegression()\n",
    "logistic.fit(x_train_norm, y_train)"
   ]
  },
  {
   "cell_type": "code",
   "execution_count": 44,
   "id": "cc01b3d8",
   "metadata": {},
   "outputs": [],
   "source": [
    "from sklearn.metrics import classification_report,confusion_matrix\n",
    "y_pred_logistic = logistic.predict(x_test_norm)"
   ]
  },
  {
   "cell_type": "code",
   "execution_count": 45,
   "id": "ac66c426",
   "metadata": {},
   "outputs": [
    {
     "data": {
      "text/plain": [
       "array([[481, 175],\n",
       "       [142, 563]], dtype=int64)"
      ]
     },
     "execution_count": 45,
     "metadata": {},
     "output_type": "execute_result"
    }
   ],
   "source": [
    "confusion_matrix(y_test, y_pred_logistic)"
   ]
  },
  {
   "cell_type": "code",
   "execution_count": 46,
   "id": "ae9ba46e",
   "metadata": {},
   "outputs": [
    {
     "name": "stdout",
     "output_type": "stream",
     "text": [
      "              precision    recall  f1-score   support\n",
      "\n",
      "           0       0.77      0.73      0.75       656\n",
      "           1       0.76      0.80      0.78       705\n",
      "\n",
      "    accuracy                           0.77      1361\n",
      "   macro avg       0.77      0.77      0.77      1361\n",
      "weighted avg       0.77      0.77      0.77      1361\n",
      "\n"
     ]
    }
   ],
   "source": [
    "print(classification_report(y_test, y_pred_logistic))"
   ]
  },
  {
   "cell_type": "code",
   "execution_count": null,
   "id": "99699d3b",
   "metadata": {},
   "outputs": [],
   "source": [
    "# Dokładność - przedstawia stosunek wszystkich poprawnie sklasyfikowanych przypadków (TP + TN) do całkowitej liczby przypadków. \n",
    "# dokładność wynosi 0.77, co oznacza, że 77% przypadków zostało sklasyfikowanych poprawnie.\n",
    "# Precyzja - stosunek TP do wszystkich sklasyfikowanych przypadków sklasyfikowanych jako pozytywne, dla klasy 0 jest równa 0,77 natomiast dla klasy 0 = 0,76\n",
    "# Oznacza to, że model poprawnie przewiduje przewiduje 77% przypadków, a dla klasy 1 - 76% przypadków.\n",
    "\n",
    "# Czułość - stosunek TP do do wszystkich rzeczywistych pozytywnych przypadków Oznacza to, że model wykrywa 73% przypadków klasy 0 i 80% przypadków klasy 1."
   ]
  },
  {
   "cell_type": "code",
   "execution_count": 47,
   "id": "388f468c",
   "metadata": {},
   "outputs": [
    {
     "data": {
      "image/png": "[encoded data removed]",
      "text/plain": [
       "<Figure size 432x288 with 1 Axes>"
      ]
     },
     "metadata": {
      "needs_background": "light"
     },
     "output_type": "display_data"
    }
   ],
   "source": [
    "# Krzywa ROC\n",
    "ROC(logistic, x_test_norm, y_test)"
   ]
  },
  {
   "cell_type": "code",
   "execution_count": null,
   "id": "a1314aa0",
   "metadata": {},
   "outputs": [],
   "source": [
    "# W przypadku krzywej ROC należy zwrócić uwagę na obszar znajdujący się pod krzywą, w analizowanym przypadku wynosi od 0,8553..\n",
    "# Im bardziej krzywa jest \"uniesiona\" w kierunku lewego górnego rogu wykresu (w stronę czułości równej 1 i specyficzności równej 1),\n",
    "# tym lepsza jest wydajność modelu."
   ]
  },
  {
   "cell_type": "code",
   "execution_count": 48,
   "id": "5d00c128",
   "metadata": {},
   "outputs": [],
   "source": [
    "# Las losowy\n",
    "from sklearn.ensemble import RandomForestClassifier"
   ]
  },
  {
   "cell_type": "code",
   "execution_count": 49,
   "id": "4d46d4c1",
   "metadata": {},
   "outputs": [],
   "source": [
    "RandomForest_model = RandomForestClassifier()\n",
    "RandomForest_model.fit(x_train_norm, y_train)\n",
    "\n",
    "y_pred_forest = RandomForest_model.predict(x_test_norm)"
   ]
  },
  {
   "cell_type": "code",
   "execution_count": 50,
   "id": "614a9e61",
   "metadata": {},
   "outputs": [
    {
     "data": {
      "text/plain": [
       "array([[522, 134],\n",
       "       [ 81, 624]], dtype=int64)"
      ]
     },
     "execution_count": 50,
     "metadata": {},
     "output_type": "execute_result"
    }
   ],
   "source": [
    "confusion_matrix(y_test, y_pred_forest)"
   ]
  },
  {
   "cell_type": "code",
   "execution_count": 51,
   "id": "a61481b8",
   "metadata": {},
   "outputs": [
    {
     "name": "stdout",
     "output_type": "stream",
     "text": [
      "              precision    recall  f1-score   support\n",
      "\n",
      "           0       0.87      0.80      0.83       656\n",
      "           1       0.82      0.89      0.85       705\n",
      "\n",
      "    accuracy                           0.84      1361\n",
      "   macro avg       0.84      0.84      0.84      1361\n",
      "weighted avg       0.84      0.84      0.84      1361\n",
      "\n"
     ]
    }
   ],
   "source": [
    "print(classification_report(y_test, y_pred_forest))"
   ]
  },
  {
   "cell_type": "code",
   "execution_count": null,
   "id": "a2bcf24f",
   "metadata": {},
   "outputs": [],
   "source": [
    "# Obliczone miary dla lasów losowych przyjmują lepsze wartości w porównaniu z modelem regresji logistycznej"
   ]
  },
  {
   "cell_type": "code",
   "execution_count": 52,
   "id": "7dc9d774",
   "metadata": {},
   "outputs": [
    {
     "data": {
      "image/png": "[encoded data removed]",
      "text/plain": [
       "<Figure size 432x288 with 1 Axes>"
      ]
     },
     "metadata": {
      "needs_background": "light"
     },
     "output_type": "display_data"
    }
   ],
   "source": [
    "# Krzywa ROC\n",
    "ROC(RandomForest_model, x_test_norm, y_test)"
   ]
  },
  {
   "cell_type": "code",
   "execution_count": 53,
   "id": "ca770cee",
   "metadata": {},
   "outputs": [],
   "source": [
    "# Podsumowując lasy losowe skuteczniej klasyfikują dane, zarówno wskaźniki takie jak\n",
    "# dokładnoś, precyzja, czułośc przyjmują znacznie korzystniejsze wartości. \n",
    "# Ponadto pole pod krzywą ROC jest większe o 0,07 w porównaniu z modelem regresji logistycznej.\n"
   ]
  },
  {
   "cell_type": "code",
   "execution_count": null,
   "id": "ca242160",
   "metadata": {},
   "outputs": [],
   "source": []
  }
 ],
 "metadata": {
  "kernelspec": {
   "display_name": "Python 3 (ipykernel)",
   "language": "python",
   "name": "python3"
  },
  "language_info": {
   "codemirror_mode": {
    "name": "ipython",
    "version": 3
   },
   "file_extension": ".py",
   "mimetype": "text/x-python",
   "name": "python",
   "nbconvert_exporter": "python",
   "pygments_lexer": "ipython3",
   "version": "3.9.7"
  }
 },
 "nbformat": 4,
 "nbformat_minor": 5
}
